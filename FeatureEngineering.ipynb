{
 "cells": [
  {
   "cell_type": "markdown",
   "metadata": {},
   "source": [
    "# Importación de librerias"
   ]
  },
  {
   "cell_type": "code",
   "execution_count": 1,
   "metadata": {},
   "outputs": [],
   "source": [
    "import pandas as pd\n",
    "import numpy as np\n",
    "import seaborn as sns\n",
    "import matplotlib.pyplot as plt"
   ]
  },
  {
   "cell_type": "code",
   "execution_count": 2,
   "metadata": {},
   "outputs": [],
   "source": [
    "from scripts import fill_tn_with_0, \\\n",
    "    create_periodo_dt, \\\n",
    "    create_date_features, \\\n",
    "    scale_tn, \\\n",
    "    create_lag_features,\\\n",
    "    create_ma_features, \\\n",
    "    create_min_features, \\\n",
    "    create_max_features, \\\n",
    "    set_categorical_features, \\\n",
    "    reduce_mem_usage, \\\n",
    "    create_std_features, \\\n",
    "    create_delta_lag_features, \\\n",
    "    set_ordinal_features, \\\n",
    "    limit_categorical_values\n"
   ]
  },
  {
   "cell_type": "code",
   "execution_count": 3,
   "metadata": {},
   "outputs": [],
   "source": [
    "plt.rcParams['figure.figsize'] = (12, 6)\n",
    "sns.set(style='whitegrid', palette='muted', font_scale=1.1)\n",
    "sns.set_context(\"notebook\", rc={\"figure.figsize\": (12, 6)})"
   ]
  },
  {
   "cell_type": "markdown",
   "metadata": {},
   "source": [
    "# Carga de datasets"
   ]
  },
  {
   "cell_type": "code",
   "execution_count": 4,
   "metadata": {},
   "outputs": [],
   "source": [
    "path_products = './datasets/tb_productos.txt'\n",
    "path_stocks = './datasets/tb_stocks.txt'\n",
    "path_sells = './datasets/sell-in.txt'\n",
    "path_products_to_predict = './datasets/product_id_apredecir201912.txt'\n",
    "\n",
    "full_dataset_path = './datasets/full_dataset.parquet'\n",
    "transformed_dataset_path = './datasets/transformed_dataset.parquet'\n",
    "\n",
    "train_test_path = './datasets/train_test.parquet'"
   ]
  },
  {
   "cell_type": "code",
   "execution_count": 5,
   "metadata": {},
   "outputs": [],
   "source": [
    "tn_scaler_path='./scalers/scalers.pkl'\n",
    "encoders_path='./encoders/encoders.pkl'\n",
    "categorical_cols = ['cat1', 'cat2', 'cat3', 'brand', 'sku_size']"
   ]
  },
  {
   "cell_type": "code",
   "execution_count": 6,
   "metadata": {},
   "outputs": [],
   "source": [
    "#path_products = 'https://drive.usercontent.google.com/u/0/uc?id=1s-AqqbU8AkCquQSTabKQcSyTWJxfzWdC&export=download'\n",
    "#path_stocks = 'https://drive.usercontent.google.com/u/0/uc?id=1hWem2eGQuxKvRLYowsEr7kEeBLqJMh9y&export=download'\n",
    "#path_sells = 'https://drive.usercontent.google.com/download?id=1a51g5fWTolz8ffJzqOraoFBbpMrDxDSo&export=download&authuser=0&confirm=t&uuid=7b59490c-94b4-4e15-9493-2679ad9211b6&at=ALoNOgm-5Vr0oaK-fRAcN97ldtSW%3A1748109329167'"
   ]
  },
  {
   "cell_type": "code",
   "execution_count": 7,
   "metadata": {},
   "outputs": [],
   "source": [
    "df_products = pd.read_csv(path_products, sep='\\t', dtype={ 'product_id': str, 'sku_size': str })\n",
    "df_stocks = pd.read_csv(path_stocks, sep='\\t', dtype={ 'product_id': str, 'periodo': str })\n",
    "df_sell_in = pd.read_csv(path_sells, sep='\\t', dtype={ 'product_id': str, 'customer_id': str, 'periodo': str })\n",
    "df_products_to_predict = pd.read_csv(path_products_to_predict, dtype={ 'product_id': str })"
   ]
  },
  {
   "cell_type": "markdown",
   "metadata": {},
   "source": [
    "# Feature Engineering"
   ]
  },
  {
   "cell_type": "markdown",
   "metadata": {},
   "source": [
    "## Lectura de datasets"
   ]
  },
  {
   "cell_type": "code",
   "execution_count": null,
   "metadata": {},
   "outputs": [],
   "source": [
    "df_products"
   ]
  },
  {
   "cell_type": "code",
   "execution_count": null,
   "metadata": {},
   "outputs": [],
   "source": [
    "df_stocks"
   ]
  },
  {
   "cell_type": "code",
   "execution_count": null,
   "metadata": {},
   "outputs": [],
   "source": [
    "df_sell_in"
   ]
  },
  {
   "cell_type": "code",
   "execution_count": null,
   "metadata": {},
   "outputs": [],
   "source": [
    "df_products_to_predict"
   ]
  },
  {
   "cell_type": "code",
   "execution_count": null,
   "metadata": {},
   "outputs": [],
   "source": [
    "df_sell_in[df_sell_in['customer_id'] == '10309']"
   ]
  },
  {
   "cell_type": "code",
   "execution_count": null,
   "metadata": {},
   "outputs": [],
   "source": [
    "df_sell_in[df_sell_in['product_id'] == '20524']"
   ]
  },
  {
   "cell_type": "markdown",
   "metadata": {},
   "source": [
    "## Unificación del dataset"
   ]
  },
  {
   "cell_type": "markdown",
   "metadata": {},
   "source": [
    "Un producto empieza a existir en el periodo que tiene la primera venta para algun cliente deja de existir en el periodo que tiene la ultima venta para algun cliente"
   ]
  },
  {
   "cell_type": "code",
   "execution_count": 14,
   "metadata": {},
   "outputs": [],
   "source": [
    "df_sell_in['periodo'] = pd.to_datetime(df_sell_in['periodo'].astype(str), format='%Y%m')"
   ]
  },
  {
   "cell_type": "code",
   "execution_count": null,
   "metadata": {},
   "outputs": [],
   "source": [
    "df_sell_in[(df_sell_in['customer_id'] == '10312') & (df_sell_in['product_id'] == '20524')]"
   ]
  },
  {
   "cell_type": "code",
   "execution_count": null,
   "metadata": {},
   "outputs": [],
   "source": [
    "product_life = df_sell_in.groupby('product_id')['periodo'].agg(['min', 'max']).rename(columns={\n",
    "    'min': 'start_p',\n",
    "    'max': 'end_p'\n",
    "})\n",
    "\n",
    "product_life"
   ]
  },
  {
   "cell_type": "code",
   "execution_count": null,
   "metadata": {},
   "outputs": [],
   "source": [
    "product_life.loc['20524']"
   ]
  },
  {
   "cell_type": "code",
   "execution_count": null,
   "metadata": {},
   "outputs": [],
   "source": [
    "customer_life = df_sell_in.groupby('customer_id')['periodo'].agg(['min', 'max']).rename(columns={\n",
    "    'min': 'start_c',\n",
    "    'max': 'end_c'\n",
    "})\n",
    "\n",
    "customer_life"
   ]
  },
  {
   "cell_type": "code",
   "execution_count": null,
   "metadata": {},
   "outputs": [],
   "source": [
    "customer_life.loc['10309']"
   ]
  },
  {
   "cell_type": "code",
   "execution_count": null,
   "metadata": {},
   "outputs": [],
   "source": [
    "all_periods = pd.date_range(df_sell_in['periodo'].min(), df_sell_in['periodo'].max(), freq='MS')\n",
    "all_periods"
   ]
  },
  {
   "cell_type": "code",
   "execution_count": null,
   "metadata": {},
   "outputs": [],
   "source": [
    "len(all_periods) * len(df_sell_in['customer_id'].unique()) * len(df_sell_in['product_id'].unique())"
   ]
  },
  {
   "cell_type": "code",
   "execution_count": null,
   "metadata": {},
   "outputs": [],
   "source": [
    "clientes = df_sell_in['customer_id'].unique()\n",
    "productos = df_sell_in['product_id'].unique()\n",
    "\n",
    "index = pd.MultiIndex.from_product(\n",
    "    [clientes, productos, all_periods],\n",
    "    names=['customer_id', 'product_id', 'periodo']\n",
    ")\n",
    "\n",
    "all_combinations = index.to_frame(index=False)\n",
    "all_combinations"
   ]
  },
  {
   "cell_type": "code",
   "execution_count": null,
   "metadata": {},
   "outputs": [],
   "source": [
    "df_all_combinations = all_combinations.merge(product_life, on='product_id').merge(customer_life, on='customer_id')\n",
    "df_all_combinations"
   ]
  },
  {
   "cell_type": "code",
   "execution_count": null,
   "metadata": {},
   "outputs": [],
   "source": [
    "#df_complete = df_all_combinations[\n",
    "#    (df_all_combinations['periodo'] >= df_all_combinations[['start_p', 'start_c']].min(axis=1)) & \n",
    "#    (df_all_combinations['periodo'] <= df_all_combinations[['end_p', 'end_c']].max(axis=1))\n",
    "#]\n",
    "\n",
    "df_complete = df_all_combinations[\n",
    "    (df_all_combinations['periodo'] >= df_all_combinations['start_p']) & \n",
    "    (df_all_combinations['periodo'] <= df_all_combinations['end_p']) &\n",
    "    (df_all_combinations['periodo'] >= df_all_combinations['start_c']) &\n",
    "    (df_all_combinations['periodo'] <= df_all_combinations['end_c'])\n",
    "]\n",
    "\n",
    "df_complete = df_complete.drop(columns=['start_p', 'end_p', 'start_c', 'end_c'])\n",
    "\n",
    "df_complete"
   ]
  },
  {
   "cell_type": "code",
   "execution_count": null,
   "metadata": {},
   "outputs": [],
   "source": [
    "df_sell_in_complete = pd.merge(\n",
    "    df_complete,\n",
    "    df_sell_in,\n",
    "    on=['customer_id', 'product_id', 'periodo'],\n",
    "    how='left'\n",
    ")\n",
    "\n",
    "df_sell_in_complete"
   ]
  },
  {
   "cell_type": "code",
   "execution_count": null,
   "metadata": {},
   "outputs": [],
   "source": [
    "df_sell_in_complete['periodo'] = df_sell_in_complete['periodo'].dt.strftime('%Y%m')\n",
    "df_sell_in_complete"
   ]
  },
  {
   "cell_type": "code",
   "execution_count": null,
   "metadata": {},
   "outputs": [],
   "source": [
    "df = df_sell_in_complete.merge(df_products, on='product_id').merge(df_stocks, on=['periodo', 'product_id'], how='left')\n",
    "df"
   ]
  },
  {
   "cell_type": "code",
   "execution_count": 28,
   "metadata": {},
   "outputs": [],
   "source": [
    "df.drop(columns=['plan_precios_cuidados', 'stock_final', 'cust_request_qty'], inplace=True)"
   ]
  },
  {
   "cell_type": "code",
   "execution_count": null,
   "metadata": {},
   "outputs": [],
   "source": [
    "df.drop(columns=['cust_request_tn'], inplace=True)\n",
    "df"
   ]
  },
  {
   "cell_type": "code",
   "execution_count": null,
   "metadata": {},
   "outputs": [],
   "source": [
    "last_period = df['periodo'].max()\n",
    "year = int(last_period[:4])\n",
    "month = int(last_period[4:])\n",
    "\n",
    "next_periods = []\n",
    "for i in range(1,3):\n",
    "    if month + i > 12:\n",
    "        next_year = year + 1\n",
    "        next_month = (month + i) % 12\n",
    "        if next_month == 0:\n",
    "            next_month = 12\n",
    "    else:\n",
    "        next_year = year\n",
    "        next_month = month + i\n",
    "    next_periods.append(f\"{next_year}{next_month:02d}\")\n",
    "\n",
    "next_periods"
   ]
  },
  {
   "cell_type": "code",
   "execution_count": null,
   "metadata": {},
   "outputs": [],
   "source": [
    "future_records = []\n",
    "for period in next_periods:\n",
    "    temp_df = df[df['periodo'] == last_period].copy()\n",
    "    temp_df['periodo'] = period\n",
    "    temp_df['tn'] = None\n",
    "    future_records.append(temp_df)\n",
    "\n",
    "df = pd.concat([df] + future_records, ignore_index=True)\n",
    "df"
   ]
  },
  {
   "cell_type": "markdown",
   "metadata": {},
   "source": [
    "### Prophet (Pendiente)"
   ]
  },
  {
   "cell_type": "code",
   "execution_count": null,
   "metadata": {},
   "outputs": [],
   "source": []
  },
  {
   "cell_type": "markdown",
   "metadata": {},
   "source": [
    "## Creo features"
   ]
  },
  {
   "cell_type": "code",
   "execution_count": 32,
   "metadata": {},
   "outputs": [],
   "source": [
    "df = create_periodo_dt(df)"
   ]
  },
  {
   "cell_type": "code",
   "execution_count": 33,
   "metadata": {},
   "outputs": [],
   "source": [
    "df = create_date_features(df)"
   ]
  },
  {
   "cell_type": "code",
   "execution_count": 34,
   "metadata": {},
   "outputs": [],
   "source": [
    "df = fill_tn_with_0(df)"
   ]
  },
  {
   "cell_type": "code",
   "execution_count": 35,
   "metadata": {},
   "outputs": [],
   "source": [
    "prediction_periods = ['202001', '202002']\n",
    "test_periods = ['201912']\n",
    "\n",
    "df_train_test = df[~df['periodo'].isin(prediction_periods)]\n",
    "df_train = df_train_test[~df_train_test['periodo'].isin(test_periods)]"
   ]
  },
  {
   "cell_type": "code",
   "execution_count": null,
   "metadata": {},
   "outputs": [],
   "source": [
    "scale_tn(df_train, tn_scaler_path, is_train=True)"
   ]
  },
  {
   "cell_type": "code",
   "execution_count": null,
   "metadata": {},
   "outputs": [],
   "source": [
    "df = scale_tn(df, tn_scaler_path, is_train=False)"
   ]
  },
  {
   "cell_type": "code",
   "execution_count": 38,
   "metadata": {},
   "outputs": [],
   "source": [
    "df = df.sort_values(['periodo_dt'])"
   ]
  },
  {
   "cell_type": "code",
   "execution_count": 39,
   "metadata": {},
   "outputs": [],
   "source": [
    "df = set_categorical_features(df)"
   ]
  },
  {
   "cell_type": "code",
   "execution_count": 40,
   "metadata": {},
   "outputs": [],
   "source": [
    "delta_lag_features = create_delta_lag_features(df[['customer_id', 'product_id', 'tn']])"
   ]
  },
  {
   "cell_type": "code",
   "execution_count": 41,
   "metadata": {},
   "outputs": [],
   "source": [
    "for col in delta_lag_features.columns:\n",
    "    df[col] = delta_lag_features[col]"
   ]
  },
  {
   "cell_type": "code",
   "execution_count": 42,
   "metadata": {},
   "outputs": [],
   "source": [
    "del delta_lag_features"
   ]
  },
  {
   "cell_type": "code",
   "execution_count": 43,
   "metadata": {},
   "outputs": [],
   "source": [
    "lag_features = create_lag_features(df[['customer_id', 'product_id', 'tn']])"
   ]
  },
  {
   "cell_type": "code",
   "execution_count": 44,
   "metadata": {},
   "outputs": [],
   "source": [
    "for col in lag_features.columns:\n",
    "    df[col] = lag_features[col]"
   ]
  },
  {
   "cell_type": "code",
   "execution_count": 45,
   "metadata": {},
   "outputs": [],
   "source": [
    "del lag_features"
   ]
  },
  {
   "cell_type": "code",
   "execution_count": 46,
   "metadata": {},
   "outputs": [],
   "source": [
    "ma_features = create_ma_features(df[['customer_id', 'product_id', 'tn']])"
   ]
  },
  {
   "cell_type": "code",
   "execution_count": null,
   "metadata": {},
   "outputs": [],
   "source": [
    "for col in ma_features.columns:\n",
    "    df[col] = ma_features[col]"
   ]
  },
  {
   "cell_type": "code",
   "execution_count": 48,
   "metadata": {},
   "outputs": [],
   "source": [
    "del ma_features"
   ]
  },
  {
   "cell_type": "code",
   "execution_count": 49,
   "metadata": {},
   "outputs": [],
   "source": [
    "std_features = create_std_features(df[['customer_id', 'product_id', 'tn']])"
   ]
  },
  {
   "cell_type": "code",
   "execution_count": null,
   "metadata": {},
   "outputs": [],
   "source": [
    "for col in std_features.columns:\n",
    "    df[col] = std_features[col]"
   ]
  },
  {
   "cell_type": "code",
   "execution_count": 51,
   "metadata": {},
   "outputs": [],
   "source": [
    "del std_features"
   ]
  },
  {
   "cell_type": "code",
   "execution_count": null,
   "metadata": {},
   "outputs": [],
   "source": [
    "df['mes_conflictivo'] = df['periodo'] == '201908'"
   ]
  },
  {
   "cell_type": "code",
   "execution_count": 53,
   "metadata": {},
   "outputs": [],
   "source": [
    "df['customer_id'] = df['customer_id'].astype('category')\n",
    "df['product_id'] = df['product_id'].astype('category')"
   ]
  },
  {
   "cell_type": "code",
   "execution_count": 54,
   "metadata": {},
   "outputs": [],
   "source": [
    "min_features = create_min_features(df[['customer_id', 'product_id', 'tn']])"
   ]
  },
  {
   "cell_type": "code",
   "execution_count": null,
   "metadata": {},
   "outputs": [],
   "source": [
    "for col in min_features.columns:\n",
    "    df[col] = min_features[col]"
   ]
  },
  {
   "cell_type": "code",
   "execution_count": 56,
   "metadata": {},
   "outputs": [],
   "source": [
    "del min_features"
   ]
  },
  {
   "cell_type": "code",
   "execution_count": 57,
   "metadata": {},
   "outputs": [],
   "source": [
    "max_features = create_max_features(df[['customer_id', 'product_id', 'tn']])"
   ]
  },
  {
   "cell_type": "code",
   "execution_count": null,
   "metadata": {},
   "outputs": [],
   "source": [
    "for col in max_features.columns:\n",
    "    df[col] = max_features[col]"
   ]
  },
  {
   "cell_type": "code",
   "execution_count": 59,
   "metadata": {},
   "outputs": [],
   "source": [
    "del max_features"
   ]
  },
  {
   "cell_type": "code",
   "execution_count": 60,
   "metadata": {},
   "outputs": [],
   "source": [
    "df['customer_id'] = df['customer_id'].astype(str)\n",
    "df['product_id'] = df['product_id'].astype(str)"
   ]
  },
  {
   "cell_type": "code",
   "execution_count": null,
   "metadata": {},
   "outputs": [],
   "source": [
    "df = limit_categorical_values(df,  columns=['customer_id', 'product_id'])"
   ]
  },
  {
   "cell_type": "code",
   "execution_count": 62,
   "metadata": {},
   "outputs": [],
   "source": [
    "df['customer_id_limited'] = df['customer_id_limited'].astype(str)\n",
    "df['product_id_limited'] = df['product_id_limited'].astype(str)"
   ]
  },
  {
   "cell_type": "code",
   "execution_count": null,
   "metadata": {},
   "outputs": [],
   "source": [
    "df = set_ordinal_features(df, ['customer_id_limited', 'product_id_limited'], is_train=True)"
   ]
  },
  {
   "cell_type": "code",
   "execution_count": 64,
   "metadata": {},
   "outputs": [],
   "source": [
    "df['customer_id'] = df['customer_id'].astype('category')\n",
    "df['product_id'] = df['product_id'].astype('category')"
   ]
  },
  {
   "cell_type": "code",
   "execution_count": 65,
   "metadata": {},
   "outputs": [],
   "source": [
    "df = reduce_mem_usage(df)"
   ]
  },
  {
   "cell_type": "code",
   "execution_count": 66,
   "metadata": {},
   "outputs": [],
   "source": [
    "df['customer_id_limited_encoded'] = df['customer_id_limited_encoded'].astype('category')\n",
    "df['product_id_limited_encoded'] = df['product_id_limited_encoded'].astype('category')"
   ]
  },
  {
   "cell_type": "code",
   "execution_count": 67,
   "metadata": {},
   "outputs": [],
   "source": [
    "df.to_parquet(full_dataset_path, index=False)"
   ]
  },
  {
   "cell_type": "markdown",
   "metadata": {},
   "source": [
    "# Creo datasets de train-test-future"
   ]
  },
  {
   "cell_type": "code",
   "execution_count": 68,
   "metadata": {},
   "outputs": [],
   "source": [
    "df = pd.read_parquet(full_dataset_path)"
   ]
  },
  {
   "cell_type": "markdown",
   "metadata": {},
   "source": [
    "### Clusters (Pendiente)"
   ]
  },
  {
   "cell_type": "code",
   "execution_count": null,
   "metadata": {},
   "outputs": [],
   "source": []
  }
 ],
 "metadata": {
  "kernelspec": {
   "display_name": "base",
   "language": "python",
   "name": "python3"
  },
  "language_info": {
   "codemirror_mode": {
    "name": "ipython",
    "version": 3
   },
   "file_extension": ".py",
   "mimetype": "text/x-python",
   "name": "python",
   "nbconvert_exporter": "python",
   "pygments_lexer": "ipython3",
   "version": "3.11.7"
  }
 },
 "nbformat": 4,
 "nbformat_minor": 2
}
